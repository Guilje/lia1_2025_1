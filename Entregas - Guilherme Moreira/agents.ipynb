{
 "cells": [
  {
   "cell_type": "code",
   "execution_count": 1,
   "id": "fb7c1439",
   "metadata": {},
   "outputs": [
    {
     "name": "stderr",
     "output_type": "stream",
     "text": [
      "c:\\Users\\Aluno\\Documents\\LIA1 - aulas\\GeminiProjects\\.venv\\Lib\\site-packages\\tqdm\\auto.py:21: TqdmWarning: IProgress not found. Please update jupyter and ipywidgets. See https://ipywidgets.readthedocs.io/en/stable/user_install.html\n",
      "  from .autonotebook import tqdm as notebook_tqdm\n"
     ]
    }
   ],
   "source": [
    "from dotenv import load_dotenv\n",
    "import os\n",
    "import google.generativeai as genai"
   ]
  },
  {
   "cell_type": "code",
   "execution_count": 2,
   "id": "a8523887",
   "metadata": {},
   "outputs": [],
   "source": [
    "# Carregar variável de ambiente\n",
    "load_dotenv()\n",
    "genai.configure(api_key=os.getenv(\"GOOGLE_API_KEY\"))"
   ]
  },
  {
   "cell_type": "code",
   "execution_count": 3,
   "id": "7fb713f8",
   "metadata": {},
   "outputs": [
    {
     "name": "stdout",
     "output_type": "stream",
     "text": [
      "models/embedding-gecko-001\n",
      "models/gemini-1.0-pro-vision-latest\n",
      "models/gemini-pro-vision\n",
      "models/gemini-1.5-pro-latest\n",
      "models/gemini-1.5-pro-001\n",
      "models/gemini-1.5-pro-002\n",
      "models/gemini-1.5-pro\n",
      "models/gemini-1.5-flash-latest\n",
      "models/gemini-1.5-flash-001\n",
      "models/gemini-1.5-flash-001-tuning\n",
      "models/gemini-1.5-flash\n",
      "models/gemini-1.5-flash-002\n",
      "models/gemini-1.5-flash-8b\n",
      "models/gemini-1.5-flash-8b-001\n",
      "models/gemini-1.5-flash-8b-latest\n",
      "models/gemini-1.5-flash-8b-exp-0827\n",
      "models/gemini-1.5-flash-8b-exp-0924\n",
      "models/gemini-2.5-pro-exp-03-25\n",
      "models/gemini-2.5-pro-preview-03-25\n",
      "models/gemini-2.5-flash-preview-04-17\n",
      "models/gemini-2.5-flash-preview-05-20\n",
      "models/gemini-2.5-flash-preview-04-17-thinking\n",
      "models/gemini-2.5-pro-preview-05-06\n",
      "models/gemini-2.0-flash-exp\n",
      "models/gemini-2.0-flash\n",
      "models/gemini-2.0-flash-001\n",
      "models/gemini-2.0-flash-exp-image-generation\n",
      "models/gemini-2.0-flash-lite-001\n",
      "models/gemini-2.0-flash-lite\n",
      "models/gemini-2.0-flash-preview-image-generation\n",
      "models/gemini-2.0-flash-lite-preview-02-05\n",
      "models/gemini-2.0-flash-lite-preview\n",
      "models/gemini-2.0-pro-exp\n",
      "models/gemini-2.0-pro-exp-02-05\n",
      "models/gemini-exp-1206\n",
      "models/gemini-2.0-flash-thinking-exp-01-21\n",
      "models/gemini-2.0-flash-thinking-exp\n",
      "models/gemini-2.0-flash-thinking-exp-1219\n",
      "models/gemini-2.5-flash-preview-tts\n",
      "models/gemini-2.5-pro-preview-tts\n",
      "models/learnlm-2.0-flash-experimental\n",
      "models/gemma-3-1b-it\n",
      "models/gemma-3-4b-it\n",
      "models/gemma-3-12b-it\n",
      "models/gemma-3-27b-it\n",
      "models/gemma-3n-e4b-it\n",
      "models/embedding-001\n",
      "models/text-embedding-004\n",
      "models/gemini-embedding-exp-03-07\n",
      "models/gemini-embedding-exp\n",
      "models/aqa\n",
      "models/imagen-3.0-generate-002\n",
      "models/veo-2.0-generate-001\n",
      "models/gemini-2.5-flash-preview-native-audio-dialog\n",
      "models/gemini-2.5-flash-preview-native-audio-dialog-rai-v3\n",
      "models/gemini-2.5-flash-exp-native-audio-thinking-dialog\n",
      "models/gemini-2.0-flash-live-001\n"
     ]
    }
   ],
   "source": [
    "for model in genai.list_models():\n",
    "    print(model.name)"
   ]
  },
  {
   "cell_type": "code",
   "execution_count": 4,
   "id": "5c1bdba8",
   "metadata": {},
   "outputs": [],
   "source": [
    "# Função para criar agentes simulando comportamentos\n",
    "def gerar_resposta_gemini(prompt):\n",
    "    model = genai.GenerativeModel(\"models/gemini-1.5-flash\")\n",
    "    response = model.generate_content(prompt)\n",
    "    return response.text.strip()"
   ]
  },
  {
   "cell_type": "code",
   "execution_count": 5,
   "id": "6c6d5741",
   "metadata": {},
   "outputs": [],
   "source": [
    "def atendente(pergunta_usuario):\n",
    "    prompt = f\"\"\"\n",
    "    Você é um atendente virtual de uma clínica veterinária. Responda de forma educada, simpática e profissional.\n",
    "\n",
    "    Funções principais:\n",
    "    - Informar horário de funcionamento\n",
    "    - Agendar consultas (simulado)\n",
    "    - Responder dúvidas sobre cuidados com animais\n",
    "    - Fornecer informações sobre serviços prestados (banho, vacinação, consultas, etc.)\n",
    "\n",
    "    Exemplos:\n",
    "    Usuário: Quais os horários de funcionamento?\n",
    "    Resposta: Nossa clínica funciona de segunda a sexta, das 8h às 18h, e aos sábados das 8h às 12h. Domingo estamos fechados. Posso te ajudar com mais alguma coisa?\n",
    "\n",
    "    Usuário: Vocês fazem vacinação?\n",
    "    Resposta: Sim! Realizamos vacinação para cães e gatos. Você gostaria de agendar um horário?\n",
    "\n",
    "    Agora responda à seguinte pergunta do usuário:\n",
    "    Usuário: {pergunta_usuario}\n",
    "    \"\"\"\n",
    "    return gerar_resposta_gemini(prompt)"
   ]
  },
  {
   "cell_type": "code",
   "execution_count": 6,
   "id": "8fd561f2",
   "metadata": {},
   "outputs": [],
   "source": [
    "def estimar_orcamento(servico_desejado):\n",
    "    prompt = f\"\"\"\n",
    "    Você é um orçamentista virtual de uma clínica veterinária. Sua tarefa é fornecer estimativas de preços dos serviços, com base no tipo de serviço solicitado pelo cliente. Seja simpático e profissional.\n",
    "\n",
    "    Serviços e preços médios:\n",
    "    - Consulta veterinária: R$ 100,00\n",
    "    - Banho (cães pequenos): R$ 40,00\n",
    "    - Banho (cães médios): R$ 55,00\n",
    "    - Banho (cães grandes): R$ 70,00\n",
    "    - Vacinação: R$ 90,00 por dose\n",
    "    - Tosa higiênica: R$ 35,00\n",
    "    - Castração (gatos): R$ 300,00\n",
    "    - Castração (cães pequenos): R$ 400,00\n",
    "\n",
    "    Exemplo:\n",
    "    Usuário: Quanto custa um banho para um cão médio?\n",
    "    Resposta: Um banho para um cão de porte médio custa, em média, R$ 55,00. Se quiser, posso ajudar a agendar um horário!\n",
    "\n",
    "    Agora responda à seguinte solicitação do cliente:\n",
    "    Usuário: {servico_desejado}\n",
    "    \"\"\"\n",
    "    return gerar_resposta_gemini(prompt)"
   ]
  },
  {
   "cell_type": "code",
   "execution_count": null,
   "id": "21bd7b91",
   "metadata": {},
   "outputs": [],
   "source": [
    "# Execução\n",
    "pergunta_usuario = \"Meu gato está vomitando, qual procedimento devo fazer?\"\n",
    "resposta = atendente(pergunta_usuario)\n",
    "orcamento = estimar_orcamento(pergunta_usuario)"
   ]
  },
  {
   "cell_type": "code",
   "execution_count": 9,
   "id": "194d1671",
   "metadata": {},
   "outputs": [
    {
     "name": "stdout",
     "output_type": "stream",
     "text": [
      "📍 Atendente:\n",
      "\n",
      "Olá!  Sinto muito saber que seu gato está vomitando.  É importante observar alguns detalhes para entender melhor o que pode estar acontecendo.  \n",
      "\n",
      "Primeiro, **há quanto tempo ele está vomitando?**  A frequência dos vômitos?  **O vômito tem algum aspecto específico?** (cor, consistência - por exemplo, se é apenas líquido, se tem sangue ou alimento).  **Ele está com outros sintomas?** (apatia, falta de apetite, diarreia, febre, etc.)?  **Ele comeu algo diferente do habitual recentemente?**\n",
      "\n",
      "Quanto mais informações você puder me fornecer, melhor poderei te orientar.  No entanto, **recomendo fortemente que você o leve ao veterinário o mais breve possível**, principalmente se os vômitos persistirem ou se ele estiver apresentando outros sintomas.  Vômitos podem ser sinal de diversas coisas, desde uma simples indisposição alimentar até algo mais sério que requer tratamento imediato.\n",
      "\n",
      "Enquanto isso, tente oferecer água fresca em pequenas quantidades para evitar desidratação.  **Não ofereça comida por enquanto.**  Assim que tiver mais detalhes sobre a situação, podemos discutir melhor os próximos passos.  Podemos até mesmo tentar agendar uma consulta de urgência, se necessário.  Qual seria o melhor horário para você?\n"
     ]
    }
   ],
   "source": [
    "# Resultados\n",
    "print(\"📍 Atendente:\\n\")\n",
    "print(resposta)"
   ]
  },
  {
   "cell_type": "code",
   "execution_count": 10,
   "id": "d2a985a6",
   "metadata": {},
   "outputs": [
    {
     "name": "stdout",
     "output_type": "stream",
     "text": [
      "\n",
      "💰 Estimativa de Orçamento:\n",
      "\n",
      "Olá!  Sinto muito saber que seu gato está vomitando.  É importante levá-lo ao veterinário o quanto antes para avaliar a causa do problema.  Vários fatores podem causar vômitos em gatos, desde uma simples indisposição alimentar até algo mais sério que requer tratamento imediato.\n",
      "\n",
      "Uma consulta veterinária para avaliar o seu gato custa R$ 100,00.  Este valor inclui o exame clínico e a avaliação inicial do problema.  Dependendo do diagnóstico, podem ser necessários exames complementares (como exames de sangue ou raio-x) e tratamentos específicos, com custos adicionais que só poderão ser estimados após a consulta.\n",
      "\n",
      "Recomendo fortemente agendar uma consulta o mais breve possível. Podemos marcar um horário para você agora mesmo, se desejar.  Ligue para a clínica ou responda a esta mensagem com o seu nome e telefone e entraremos em contato.  A saúde do seu gato é nossa prioridade!\n"
     ]
    }
   ],
   "source": [
    "print(\"\\n💰 Estimativa de Orçamento:\\n\")\n",
    "print(orcamento)"
   ]
  }
 ],
 "metadata": {
  "kernelspec": {
   "display_name": ".venv",
   "language": "python",
   "name": "python3"
  },
  "language_info": {
   "codemirror_mode": {
    "name": "ipython",
    "version": 3
   },
   "file_extension": ".py",
   "mimetype": "text/x-python",
   "name": "python",
   "nbconvert_exporter": "python",
   "pygments_lexer": "ipython3",
   "version": "3.11.9"
  }
 },
 "nbformat": 4,
 "nbformat_minor": 5
}
